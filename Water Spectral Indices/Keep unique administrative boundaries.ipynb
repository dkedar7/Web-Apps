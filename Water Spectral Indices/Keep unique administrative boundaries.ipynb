{
 "cells": [
  {
   "cell_type": "code",
   "execution_count": 1,
   "id": "f1d82887-8d31-4792-96a3-ba2b1440efd5",
   "metadata": {
    "tags": []
   },
   "outputs": [
    {
     "name": "stderr",
     "output_type": "stream",
     "text": [
      "C:\\Users\\kedar\\anaconda3\\lib\\site-packages\\numpy\\_distributor_init.py:30: UserWarning: loaded more than 1 DLL from .libs:\n",
      "C:\\Users\\kedar\\anaconda3\\lib\\site-packages\\numpy\\.libs\\libopenblas.XWYDX2IKJW2NMTWSFYNGFUWKQU3LYTCZ.gfortran-win_amd64.dll\n",
      "C:\\Users\\kedar\\anaconda3\\lib\\site-packages\\numpy\\.libs\\libopenblas64__v0.3.21-gcc_10_3_0.dll\n",
      "  warnings.warn(\"loaded more than 1 DLL from .libs:\"\n"
     ]
    }
   ],
   "source": [
    "import pandas as pd\n",
    "import ee"
   ]
  },
  {
   "cell_type": "markdown",
   "id": "cc6d9661-650c-4a82-850d-3ec6cf8b9ff8",
   "metadata": {},
   "source": [
    "### Export unique values"
   ]
  },
  {
   "cell_type": "code",
   "execution_count": null,
   "id": "f5f528ba-05f5-4552-9784-aa23d165ae53",
   "metadata": {},
   "outputs": [],
   "source": [
    "# Initialize the Earth Engine module.\n",
    "ee.Initialize()\n",
    "\n",
    "# Load a FeatureCollection (e.g., administrative boundaries).\n",
    "feature_collection = ee.FeatureCollection('FAO/GAUL/2015/level2')\n",
    "\n",
    "# Properties for which you want to get unique values.\n",
    "properties = ['ADM0_NAME', 'ADM1_NAME', 'ADM2_NAME']\n",
    "\n",
    "fc = feature_collection.distinct(properties)\n",
    "\n",
    "# Export the FeatureCollection as a CSV file to Google Drive.\n",
    "export_task = ee.batch.Export.table.toDrive(\n",
    "    collection=fc,\n",
    "    description='gaul_data',\n",
    "    fileFormat='CSV'\n",
    ")\n",
    "\n",
    "# Start the export task.\n",
    "# export_task.start()"
   ]
  },
  {
   "cell_type": "markdown",
   "id": "59928be2-ae6f-48ef-81ef-71bd687b17fe",
   "metadata": {},
   "source": [
    "### Keep unique values"
   ]
  },
  {
   "cell_type": "code",
   "execution_count": 2,
   "id": "c0c0f82f-8a60-4f27-a6fc-288df1ba2b2e",
   "metadata": {
    "tags": []
   },
   "outputs": [],
   "source": [
    "data = pd.read_csv(\"gaul_data.csv\")"
   ]
  },
  {
   "cell_type": "code",
   "execution_count": 4,
   "id": "abab15c8-94b8-430a-bbb2-3b30831168bf",
   "metadata": {
    "tags": []
   },
   "outputs": [
    {
     "data": {
      "text/plain": [
       "(38004, 14)"
      ]
     },
     "execution_count": 4,
     "metadata": {},
     "output_type": "execute_result"
    }
   ],
   "source": [
    "data.shape"
   ]
  },
  {
   "cell_type": "code",
   "execution_count": 7,
   "id": "f68247db-d1d0-4632-ad92-56fbcde742b3",
   "metadata": {
    "tags": []
   },
   "outputs": [],
   "source": [
    "data[['ADM0_NAME', 'ADM1_NAME', 'ADM2_NAME']].drop_duplicates().to_csv(\"gaul_data.csv\", index=False)"
   ]
  }
 ],
 "metadata": {
  "kernelspec": {
   "display_name": "Python 3 (ipykernel)",
   "language": "python",
   "name": "python3"
  },
  "language_info": {
   "codemirror_mode": {
    "name": "ipython",
    "version": 3
   },
   "file_extension": ".py",
   "mimetype": "text/x-python",
   "name": "python",
   "nbconvert_exporter": "python",
   "pygments_lexer": "ipython3",
   "version": "3.9.16"
  }
 },
 "nbformat": 4,
 "nbformat_minor": 5
}
